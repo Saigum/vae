{
 "cells": [
  {
   "cell_type": "code",
   "execution_count": 44,
   "metadata": {},
   "outputs": [],
   "source": [
    "import torch,torchvision\n",
    "from torch import nn\n",
    "import pandas as pd\n",
    "import tqdm\n",
    "import numpy as np\n"
   ]
  },
  {
   "cell_type": "code",
   "execution_count": 45,
   "metadata": {},
   "outputs": [],
   "source": [
    "import matplotlib.pyplot as plt"
   ]
  },
  {
   "cell_type": "code",
   "execution_count": 46,
   "metadata": {},
   "outputs": [],
   "source": [
    "\n",
    "train_set = pd.read_csv('./archive/mnist_train.csv')\n",
    "test_set = pd.read_csv('./archive/mnist_test.csv')\n",
    "\n",
    "Y_train = train_set.pop('label')\n",
    "\n",
    "X_train =torch.tensor( train_set.to_numpy(),dtype=torch.float) /255\n",
    "\n"
   ]
  },
  {
   "cell_type": "code",
   "execution_count": 47,
   "metadata": {},
   "outputs": [],
   "source": [
    "\n",
    "class vae(nn.Module):\n",
    "    def __init__(self,input_shape,latent_shape):\n",
    "        self.input_shape=input_shape\n",
    "        self.latent_shape=latent_shape\n",
    "        super(vae,self).__init__()\n",
    "        self.encoder = nn.Sequential(\n",
    "            nn.Linear(in_features= input_shape,out_features=512),\n",
    "            nn.ReLU(),\n",
    "            # nn.Linear(in_features=512,out_features=128),\n",
    "            # nn.ReLU(),\n",
    "            nn.Linear(in_features= 512,out_features=latent_shape + latent_shape),\n",
    "            nn.ReLU()\n",
    "        )\n",
    "        self.decoder = nn.Sequential(\n",
    "            nn.Linear(in_features=latent_shape,out_features=512),\n",
    "            nn.ReLU(),\n",
    "            # nn.Linear(in_features=128,out_features=512),\n",
    "            # nn.ReLU(),\n",
    "            nn.Linear(in_features= 512,out_features=input_shape),\n",
    "            nn.Sigmoid()\n",
    "        )\n",
    "        self.Normal = torch.distributions.Normal(0,1)\n",
    "        self.Normal.loc = self.Normal.loc.cuda()\n",
    "        self.Normal.scale = self.Normal.scale.cuda()\n",
    "        self.kl=0\n",
    "\n",
    "    def forward(self,X : np.ndarray):\n",
    "        encoded = self.encoder(X)\n",
    "        zmean,z_log_var = torch.split(tensor=encoded,split_size_or_sections=10,dim=0)\n",
    "    \n",
    "        sampled = zmean + self.Normal.sample(zmean.shape)*torch.exp(z_log_var)\n",
    "\n",
    "        decoded = self.decoder(sampled)\n",
    "\n",
    "        self.kl = -0.5*(1+z_log_var - zmean**2 - torch.exp(z_log_var)).sum()\n",
    "\n",
    "        return decoded \n",
    "    \n"
   ]
  },
  {
   "cell_type": "code",
   "execution_count": 48,
   "metadata": {},
   "outputs": [],
   "source": [
    "\n",
    "def train(varae,X_train,device,epochs=5):\n",
    "    varae =varae.to(device)\n",
    "    opt = torch.optim.Adam(varae.parameters(),lr=1e-5)\n",
    "    for epoch in range(epochs):\n",
    "        with tqdm.tqdm(total=len(X_train), desc=f'Epoch {epoch + 1}/{epochs}', unit='batch') as pbar:\n",
    "            for x in X_train: \n",
    "                x = x.to(device) \n",
    "                opt.zero_grad()\n",
    "                x_hat = varae(torch.tensor(x))\n",
    "                rl_loss =  nn.functional.binary_cross_entropy(x_hat,x,reduction='sum')\n",
    "                loss = rl_loss + varae.kl\n",
    "                loss.backward()\n",
    "                if torch.isnan(loss):\n",
    "                    print(\"NaN loss detected!\")\n",
    "                    print(\"x_hat:\", x_hat.mean().item(), \"x:\", x.mean().item())\n",
    "                    break\n",
    "                opt.step()\n",
    "\n",
    "                # Update the progress bar\n",
    "                pbar.set_postfix(loss=loss.item())\n",
    "                pbar.update(1)  \n",
    "\n",
    "        print(f'{epoch+1} done ')\n",
    "    \n",
    "    return varae\n"
   ]
  },
  {
   "cell_type": "code",
   "execution_count": 49,
   "metadata": {},
   "outputs": [],
   "source": [
    "input_shape =  784\n",
    "latent_shape = 10\n",
    "model = vae(input_shape,latent_shape)"
   ]
  },
  {
   "cell_type": "code",
   "execution_count": 50,
   "metadata": {},
   "outputs": [
    {
     "name": "stderr",
     "output_type": "stream",
     "text": [
      "/tmp/ipykernel_30822/3062351632.py:7: UserWarning: To copy construct from a tensor, it is recommended to use sourceTensor.clone().detach() or sourceTensor.clone().detach().requires_grad_(True), rather than torch.tensor(sourceTensor).\n",
      "  x_hat = model(torch.tensor(x))\n"
     ]
    }
   ],
   "source": [
    "device = torch.device(\"cuda\")\n",
    "model =model.to(device)\n",
    "x = X_train[2]\n",
    "opt = torch.optim.Adam(model.parameters()) \n",
    "x = x.to(device) \n",
    "opt.zero_grad()\n",
    "x_hat = model(torch.tensor(x))\n",
    "rl_loss =  nn.functional.binary_cross_entropy(x_hat,x,reduction='sum')\n",
    "loss = rl_loss + model.kl\n",
    "loss.backward()\n",
    "if torch.isnan(loss):\n",
    "    print(\"NaN loss detected!\")\n",
    "    print(\"x_hat:\", x_hat.mean().item(), \"x:\", x.mean().item())\n",
    "opt.step()"
   ]
  },
  {
   "cell_type": "code",
   "execution_count": 51,
   "metadata": {},
   "outputs": [],
   "source": [
    "#model(X_train[3].to)"
   ]
  },
  {
   "cell_type": "code",
   "execution_count": 52,
   "metadata": {},
   "outputs": [
    {
     "name": "stderr",
     "output_type": "stream",
     "text": [
      "Epoch 1/5:   0%|          | 0/9999 [00:00<?, ?batch/s]/tmp/ipykernel_30822/1181022606.py:9: UserWarning: To copy construct from a tensor, it is recommended to use sourceTensor.clone().detach() or sourceTensor.clone().detach().requires_grad_(True), rather than torch.tensor(sourceTensor).\n",
      "  x_hat = varae(torch.tensor(x))\n",
      "Epoch 1/5: 100%|██████████| 9999/9999 [00:51<00:00, 193.34batch/s, loss=172]\n"
     ]
    },
    {
     "name": "stdout",
     "output_type": "stream",
     "text": [
      "1 done \n"
     ]
    },
    {
     "name": "stderr",
     "output_type": "stream",
     "text": [
      "Epoch 2/5: 100%|██████████| 9999/9999 [00:54<00:00, 182.86batch/s, loss=165] \n"
     ]
    },
    {
     "name": "stdout",
     "output_type": "stream",
     "text": [
      "2 done \n"
     ]
    },
    {
     "name": "stderr",
     "output_type": "stream",
     "text": [
      "Epoch 3/5: 100%|██████████| 9999/9999 [00:49<00:00, 201.40batch/s, loss=165] \n"
     ]
    },
    {
     "name": "stdout",
     "output_type": "stream",
     "text": [
      "3 done \n"
     ]
    },
    {
     "name": "stderr",
     "output_type": "stream",
     "text": [
      "Epoch 4/5: 100%|██████████| 9999/9999 [00:49<00:00, 200.96batch/s, loss=157] \n"
     ]
    },
    {
     "name": "stdout",
     "output_type": "stream",
     "text": [
      "4 done \n"
     ]
    },
    {
     "name": "stderr",
     "output_type": "stream",
     "text": [
      "Epoch 5/5: 100%|██████████| 9999/9999 [00:49<00:00, 200.33batch/s, loss=144] "
     ]
    },
    {
     "name": "stdout",
     "output_type": "stream",
     "text": [
      "5 done \n"
     ]
    },
    {
     "name": "stderr",
     "output_type": "stream",
     "text": [
      "\n"
     ]
    }
   ],
   "source": [
    "\n",
    "\n",
    "device = torch.device(\"cuda\")\n",
    "\n",
    "trained_model = train(model,X_train[1:10000],device)"
   ]
  },
  {
   "cell_type": "code",
   "execution_count": 53,
   "metadata": {},
   "outputs": [
    {
     "data": {
      "image/png": "[encoded data removed]",
      "text/plain": [
       "<Figure size 432x288 with 1 Axes>"
      ]
     },
     "metadata": {
      "needs_background": "light"
     },
     "output_type": "display_data"
    }
   ],
   "source": [
    "img = X_train[30002].reshape(28,28)\n",
    "plt.imshow(img,cmap='gray')\n",
    "plt.show()"
   ]
  },
  {
   "cell_type": "code",
   "execution_count": 54,
   "metadata": {},
   "outputs": [
    {
     "data": {
      "image/png": "[encoded data removed]",
      "text/plain": [
       "<Figure size 432x288 with 1 Axes>"
      ]
     },
     "metadata": {
      "needs_background": "light"
     },
     "output_type": "display_data"
    }
   ],
   "source": [
    "recons_img = model(X_train[30002].to(device)).reshape(28,28)\n",
    "plt.imshow(img,cmap='gray')\n",
    "plt.show()"
   ]
  },
  {
   "cell_type": "code",
   "execution_count": null,
   "metadata": {},
   "outputs": [],
   "source": []
  },
  {
   "cell_type": "code",
   "execution_count": null,
   "metadata": {},
   "outputs": [],
   "source": []
  },
  {
   "cell_type": "code",
   "execution_count": 75,
   "metadata": {},
   "outputs": [
    {
     "name": "stderr",
     "output_type": "stream",
     "text": [
      "/tmp/ipykernel_30822/1889368914.py:7: UserWarning: To copy construct from a tensor, it is recommended to use sourceTensor.clone().detach() or sourceTensor.clone().detach().requires_grad_(True), rather than torch.tensor(sourceTensor).\n",
      "  img = torch.tensor(decoded.reshape(28,28).to(torch.device('cpu')))\n",
      "/tmp/ipykernel_30822/1889368914.py:8: UserWarning: To copy construct from a tensor, it is recommended to use sourceTensor.clone().detach() or sourceTensor.clone().detach().requires_grad_(True), rather than torch.tensor(sourceTensor).\n",
      "  img2 = torch.tensor(decoded_mean.reshape(28,28).to(torch.device('cpu')))\n"
     ]
    },
    {
     "data": {
      "image/png": "[encoded data removed]",
      "text/plain": [
       "<Figure size 360x144 with 1 Axes>"
      ]
     },
     "metadata": {
      "needs_background": "light"
     },
     "output_type": "display_data"
    },
    {
     "data": {
      "image/png": "[encoded data removed]",
      "text/plain": [
       "<Figure size 360x144 with 1 Axes>"
      ]
     },
     "metadata": {
      "needs_background": "light"
     },
     "output_type": "display_data"
    },
    {
     "data": {
      "image/png": "[encoded data removed]",
      "text/plain": [
       "<Figure size 360x144 with 1 Axes>"
      ]
     },
     "metadata": {
      "needs_background": "light"
     },
     "output_type": "display_data"
    },
    {
     "data": {
      "image/png": "[encoded data removed]",
      "text/plain": [
       "<Figure size 360x144 with 1 Axes>"
      ]
     },
     "metadata": {
      "needs_background": "light"
     },
     "output_type": "display_data"
    },
    {
     "data": {
      "image/png": "[encoded data removed]",
      "text/plain": [
       "<Figure size 360x144 with 1 Axes>"
      ]
     },
     "metadata": {
      "needs_background": "light"
     },
     "output_type": "display_data"
    },
    {
     "data": {
      "image/png": "[encoded data removed]",
      "text/plain": [
       "<Figure size 360x144 with 1 Axes>"
      ]
     },
     "metadata": {
      "needs_background": "light"
     },
     "output_type": "display_data"
    },
    {
     "data": {
      "image/png": "[encoded data removed]",
      "text/plain": [
       "<Figure size 360x144 with 1 Axes>"
      ]
     },
     "metadata": {
      "needs_background": "light"
     },
     "output_type": "display_data"
    },
    {
     "data": {
      "image/png": "[encoded data removed]",
      "text/plain": [
       "<Figure size 360x144 with 1 Axes>"
      ]
     },
     "metadata": {
      "needs_background": "light"
     },
     "output_type": "display_data"
    },
    {
     "data": {
      "image/png": "[encoded data removed]",
      "text/plain": [
       "<Figure size 360x144 with 1 Axes>"
      ]
     },
     "metadata": {
      "needs_background": "light"
     },
     "output_type": "display_data"
    },
    {
     "data": {
      "image/png": "[encoded data removed]",
      "text/plain": [
       "<Figure size 360x144 with 1 Axes>"
      ]
     },
     "metadata": {
      "needs_background": "light"
     },
     "output_type": "display_data"
    }
   ],
   "source": [
    "mean,log_var = torch.split(model.encoder(X_train[1].to(device)),split_size_or_sections=10)\n",
    "sample = model.Normal.sample_n(10)\n",
    "for samples in sample:\n",
    "    vector = mean + samples*torch.exp(log_var)\n",
    "    decoded_mean = model.decoder(torch.exp(log_var).to(device))\n",
    "    decoded = model.decoder(vector.to(device))\n",
    "    img = torch.tensor(decoded.reshape(28,28).to(torch.device('cpu')))\n",
    "    img2 = torch.tensor(decoded_mean.reshape(28,28).to(torch.device('cpu')))\n",
    "    plt.figure(figsize=(5,2))\n",
    "    plt.imshow( img,cmap='gray')\n",
    "\n",
    "\n",
    "    "
   ]
  }
 ],
 "metadata": {
  "kernelspec": {
   "display_name": "pytorch",
   "language": "python",
   "name": "python3"
  },
  "language_info": {
   "codemirror_mode": {
    "name": "ipython",
    "version": 3
   },
   "file_extension": ".py",
   "mimetype": "text/x-python",
   "name": "python",
   "nbconvert_exporter": "python",
   "pygments_lexer": "ipython3",
   "version": "3.10.12"
  }
 },
 "nbformat": 4,
 "nbformat_minor": 2
}
